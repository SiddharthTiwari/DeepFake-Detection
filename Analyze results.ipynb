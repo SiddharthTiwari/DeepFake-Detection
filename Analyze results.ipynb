{
 "cells": [
  {
   "cell_type": "code",
   "execution_count": 1,
   "metadata": {
    "pycharm": {
     "is_executing": false
    }
   },
   "outputs": [],
   "source": [
    "from pathlib import Path\n",
    "\n",
    "import numpy as np\n",
    "import pandas as pd\n",
    "import sklearn.metrics as M\n",
    "from scipy.special import expit\n",
    "from tqdm.notebook import tqdm"
   ]
  },
  {
   "cell_type": "code",
   "execution_count": 2,
   "metadata": {
    "pycharm": {
     "is_executing": false,
     "name": "#%%\n"
    }
   },
   "outputs": [],
   "source": [
    "results_root = Path('results/')\n",
    "results_model_folder = list(results_root.glob('net-*'))"
   ]
  },
  {
   "cell_type": "code",
   "execution_count": 3,
   "metadata": {
    "pycharm": {
     "is_executing": false,
     "name": "#%%\n"
    }
   },
   "outputs": [],
   "source": [
    "def compute_metrics(df_res:pd.DataFrame,train_tag:str) -> dict:\n",
    "    numreal = sum(df_res['label']==False)\n",
    "    numfake = sum(df_res['label']==True\n",
    ")\n",
    "    \n",
    "    netname = train_tag.split('net-')[1].split('_')[0]\n",
    "    traindb = train_tag.split('traindb-')[1].split('_')[0]\n",
    "    \n",
    "    loss = M.log_loss(df_res['label'],expit(df_res['score']))\n",
    "    acc = M.accuracy_score(df_res['label'],df_res['score']>0)\n",
    "    accbal = M.balanced_accuracy_score(df_res['label'],df_res['score']>0)\n",
    "    rocauc = M.roc_auc_score(df_res['label'],df_res['score'])\n",
    "    \n",
    "    res_dict = {'traintag':train_tag,\n",
    "                'net':netname,\n",
    "                'traindb': traindb,\n",
    "                'testdb':testdb,'testsplit':testsplit,\n",
    "                'numreal':numreal,'numfake':numfake,\n",
    "                'loss':loss,\n",
    "                'acc':acc,'accbal':accbal,\n",
    "                'rocauc':rocauc} \n",
    "    return res_dict"
   ]
  },
  {
   "cell_type": "code",
   "execution_count": 4,
   "metadata": {
    "pycharm": {
     "is_executing": false,
     "name": "#%%\n"
    }
   },
   "outputs": [
    {
     "data": {
      "application/vnd.jupyter.widget-view+json": {
       "model_id": "34937a2f85434e8a8a1b0ffe24d95afc",
       "version_major": 2,
       "version_minor": 0
      },
      "text/plain": [
       "HBox(children=(FloatProgress(value=0.0, max=1.0), HTML(value='')))"
      ]
     },
     "metadata": {},
     "output_type": "display_data"
    },
    {
     "name": "stdout",
     "output_type": "stream",
     "text": [
      "\n"
     ]
    }
   ],
   "source": [
    "results_frame_list = []\n",
    "results_video_list = []\n",
    "\n",
    "for model_folder in tqdm(results_model_folder):\n",
    "    train_model_tag = model_folder.name\n",
    "    model_results = model_folder.glob('*.pkl')\n",
    "    for model_path in model_results:\n",
    "        testdb,testsplit = model_path.with_suffix('').name.rsplit('_',1)\n",
    "        \n",
    "        df_frames = pd.read_pickle(model_path)\n",
    "        results_frame_list.append(compute_metrics(df_frames,train_model_tag))\n",
    "        \n",
    "        df_videos = df_frames[['video','label','score']].groupby('video').mean()\n",
    "        df_videos['label'] = df_videos['label'].astype(np.bool)\n",
    "        results_video_list.append(compute_metrics(df_videos,train_model_tag))"
   ]
  },
  {
   "cell_type": "code",
   "execution_count": 5,
   "metadata": {
    "pycharm": {
     "is_executing": false,
     "name": "#%%\n"
    }
   },
   "outputs": [
    {
     "data": {
      "text/html": [
       "<div>\n",
       "<style scoped>\n",
       "    .dataframe tbody tr th:only-of-type {\n",
       "        vertical-align: middle;\n",
       "    }\n",
       "\n",
       "    .dataframe tbody tr th {\n",
       "        vertical-align: top;\n",
       "    }\n",
       "\n",
       "    .dataframe thead th {\n",
       "        text-align: right;\n",
       "    }\n",
       "</style>\n",
       "<table border=\"1\" class=\"dataframe\">\n",
       "  <thead>\n",
       "    <tr style=\"text-align: right;\">\n",
       "      <th></th>\n",
       "      <th>traintag</th>\n",
       "      <th>net</th>\n",
       "      <th>traindb</th>\n",
       "      <th>testdb</th>\n",
       "      <th>testsplit</th>\n",
       "      <th>numreal</th>\n",
       "      <th>numfake</th>\n",
       "      <th>loss</th>\n",
       "      <th>acc</th>\n",
       "      <th>accbal</th>\n",
       "      <th>rocauc</th>\n",
       "    </tr>\n",
       "  </thead>\n",
       "  <tbody>\n",
       "    <tr>\n",
       "      <th>0</th>\n",
       "      <td>net-Xception_traindb-ff-deepfake_face-scale_si...</td>\n",
       "      <td>Xception</td>\n",
       "      <td>ff-deepfake</td>\n",
       "      <td>ff-deepfake</td>\n",
       "      <td>val</td>\n",
       "      <td>729</td>\n",
       "      <td>853</td>\n",
       "      <td>0.520839</td>\n",
       "      <td>0.807206</td>\n",
       "      <td>0.815337</td>\n",
       "      <td>0.861570</td>\n",
       "    </tr>\n",
       "    <tr>\n",
       "      <th>1</th>\n",
       "      <td>net-Xception_traindb-ff-deepfake_face-scale_si...</td>\n",
       "      <td>Xception</td>\n",
       "      <td>ff-deepfake</td>\n",
       "      <td>ff-deepfake</td>\n",
       "      <td>test</td>\n",
       "      <td>733</td>\n",
       "      <td>728</td>\n",
       "      <td>0.495239</td>\n",
       "      <td>0.788501</td>\n",
       "      <td>0.788299</td>\n",
       "      <td>0.860304</td>\n",
       "    </tr>\n",
       "  </tbody>\n",
       "</table>\n",
       "</div>"
      ],
      "text/plain": [
       "                                            traintag       net      traindb       testdb testsplit  numreal  numfake      loss       acc    accbal    rocauc\n",
       "0  net-Xception_traindb-ff-deepfake_face-scale_si...  Xception  ff-deepfake  ff-deepfake       val      729      853  0.520839  0.807206  0.815337  0.861570\n",
       "1  net-Xception_traindb-ff-deepfake_face-scale_si...  Xception  ff-deepfake  ff-deepfake      test      733      728  0.495239  0.788501  0.788299  0.860304"
      ]
     },
     "execution_count": 5,
     "metadata": {},
     "output_type": "execute_result"
    }
   ],
   "source": [
    "df_res_frames = pd.DataFrame(results_frame_list)\n",
    "df_res_frames"
   ]
  },
  {
   "cell_type": "code",
   "execution_count": 6,
   "metadata": {
    "pycharm": {
     "is_executing": false,
     "name": "#%%\n"
    }
   },
   "outputs": [
    {
     "data": {
      "text/html": [
       "<div>\n",
       "<style scoped>\n",
       "    .dataframe tbody tr th:only-of-type {\n",
       "        vertical-align: middle;\n",
       "    }\n",
       "\n",
       "    .dataframe tbody tr th {\n",
       "        vertical-align: top;\n",
       "    }\n",
       "\n",
       "    .dataframe thead th {\n",
       "        text-align: right;\n",
       "    }\n",
       "</style>\n",
       "<table border=\"1\" class=\"dataframe\">\n",
       "  <thead>\n",
       "    <tr style=\"text-align: right;\">\n",
       "      <th></th>\n",
       "      <th>traintag</th>\n",
       "      <th>net</th>\n",
       "      <th>traindb</th>\n",
       "      <th>testdb</th>\n",
       "      <th>testsplit</th>\n",
       "      <th>numreal</th>\n",
       "      <th>numfake</th>\n",
       "      <th>loss</th>\n",
       "      <th>acc</th>\n",
       "      <th>accbal</th>\n",
       "      <th>rocauc</th>\n",
       "    </tr>\n",
       "  </thead>\n",
       "  <tbody>\n",
       "    <tr>\n",
       "      <th>0</th>\n",
       "      <td>net-Xception_traindb-ff-deepfake_face-scale_si...</td>\n",
       "      <td>Xception</td>\n",
       "      <td>ff-deepfake</td>\n",
       "      <td>ff-deepfake</td>\n",
       "      <td>val</td>\n",
       "      <td>31</td>\n",
       "      <td>29</td>\n",
       "      <td>0.375929</td>\n",
       "      <td>0.866667</td>\n",
       "      <td>0.863181</td>\n",
       "      <td>0.919911</td>\n",
       "    </tr>\n",
       "    <tr>\n",
       "      <th>1</th>\n",
       "      <td>net-Xception_traindb-ff-deepfake_face-scale_si...</td>\n",
       "      <td>Xception</td>\n",
       "      <td>ff-deepfake</td>\n",
       "      <td>ff-deepfake</td>\n",
       "      <td>test</td>\n",
       "      <td>34</td>\n",
       "      <td>26</td>\n",
       "      <td>0.335821</td>\n",
       "      <td>0.850000</td>\n",
       "      <td>0.849548</td>\n",
       "      <td>0.942308</td>\n",
       "    </tr>\n",
       "  </tbody>\n",
       "</table>\n",
       "</div>"
      ],
      "text/plain": [
       "                                            traintag       net      traindb       testdb testsplit  numreal  numfake      loss       acc    accbal    rocauc\n",
       "0  net-Xception_traindb-ff-deepfake_face-scale_si...  Xception  ff-deepfake  ff-deepfake       val       31       29  0.375929  0.866667  0.863181  0.919911\n",
       "1  net-Xception_traindb-ff-deepfake_face-scale_si...  Xception  ff-deepfake  ff-deepfake      test       34       26  0.335821  0.850000  0.849548  0.942308"
      ]
     },
     "execution_count": 6,
     "metadata": {},
     "output_type": "execute_result"
    }
   ],
   "source": [
    "df_res_video = pd.DataFrame(results_video_list)\n",
    "df_res_video"
   ]
  },
  {
   "cell_type": "code",
   "execution_count": 7,
   "metadata": {
    "pycharm": {
     "name": "#%%\n"
    }
   },
   "outputs": [],
   "source": [
    "df_res_frames.to_csv(results_root.joinpath('frames.csv'),index=False)\n",
    "df_res_video.to_csv(results_root.joinpath('videos.csv'),index=False)\n"
   ]
  },
  {
   "cell_type": "code",
   "execution_count": null,
   "metadata": {},
   "outputs": [],
   "source": []
  }
 ],
 "metadata": {
  "kernelspec": {
   "display_name": "Python 3",
   "language": "python",
   "name": "python3"
  },
  "language_info": {
   "codemirror_mode": {
    "name": "ipython",
    "version": 3
   },
   "file_extension": ".py",
   "mimetype": "text/x-python",
   "name": "python",
   "nbconvert_exporter": "python",
   "pygments_lexer": "ipython3",
   "version": "3.6.9"
  },
  "pycharm": {
   "stem_cell": {
    "cell_type": "raw",
    "metadata": {
     "collapsed": false
    },
    "source": []
   }
  }
 },
 "nbformat": 4,
 "nbformat_minor": 1
}
